!pip install graphviz -q
from graphviz import Digraph

# --- Definição do Diagrama ---
dot = Digraph(comment='Diagrama de Classes - EmpregaAPI', format='png')
dot.attr(rankdir='LR', splines='ortho')
dot.attr('node', shape='plaintext', fontsize='10', fontname='Arial')

# --- ATUALIZAÇÃO AQUI: Adiciona distância entre o texto e a linha do relacionamento ---
dot.attr('edge', fontsize='9', fontname='Arial', labeldistance='2.0', labelangle='-25')


# --- Função para criar as caixas das classes (padrão UML) ---
def add_class(name, attributes=None, stereotype=None): """Cria uma caixa de classe no formato HTML para o Graphviz."""
    label = f"<<TABLE BORDER='0' CELLBORDER='1' CELLSPACING='0' CELLPADDING='4'>"
    if stereotype:
        label += f"<TR><TD ALIGN='CENTER' COLSPAN='1'><FONT POINT-SIZE='10'><I>&lt;&lt;{stereotype}&gt;&gt;</I></FONT></TD></TR>"
    label += f"<TR><TD ALIGN='CENTER' BGCOLOR='lightgray' COLSPAN='1'><B>{name}</B></TD></TR>"
    if attributes:
        attr_rows = "<BR ALIGN='LEFT'/>".join(attributes)
        label += f"<TR><TD ALIGN='LEFT' VALIGN='TOP'>{attr_rows}<BR ALIGN='LEFT'/></TD></TR>"
    label += "</TABLE>>"
    dot.node(name, label=label)


# --- Definição das Classes e Enums ---

# Modelos (Entidades)
add_class("Usuario",
[
    "- id: Long",
    "- email: String",
    "- senha: String",
    "- role: Role"
], stereotype="Entity")

add_class("Candidato",
[
    "- id: Long",
    "- nomeCompleto: String",
    "- telefone: String",
    "- endereco: String",
    "- dataNascimento: Date",
    "- escolaridade: String",
    "- experienciaProfissional: String",
    "- habilidades: String",
    "- dataCadastro: LocalDate",
    "- usuario: Usuario"
], stereotype="Entity")

add_class("Empresa",
[
    "- id: Long",
    "- nome: String",
    "- cnpj: String",
    "- descricao: String",
    "- website: String",
    "- usuario: Usuario",
    "- vagas: List&lt;Vaga&gt;"
], stereotype="Entity")

add_class("Vaga",
[
    "- id: Long",
    "- titulo: String",
    "- descricao: String",
    "- localizacao: String",
    "- tipoContratacao: TipoContratacao",
    "- status: StatusVaga",
    "- dataPublicacao: LocalDate",
    "- requisitos: String",
    "- beneficios: String",
    "- salario: BigDecimal"
], stereotype="Entity")

add_class("Inscricao",
[
    "- id: Long",
    "- dataInscricao: LocalDateTime",
    "- status: StatusInscricao",
    "- candidato: Candidato",
    "- vaga: Vaga"
], stereotype="Entity")

# Enumerações
add_class("Role",
[
    "CANDIDATO",
    "EMPRESA",
    "ADMIN"
], stereotype="Enum")
add_class("StatusVaga",
[
    "ABERTA",
    "FECHADA",
    "PAUSADA"
], stereotype="Enum")
add_class("TipoContratacao",
[
    "CLT",
    "PJ",
    "ESTAGIO"
], stereotype="Enum")
add_class("StatusInscricao",
[
    "INSCRITO",
    "VISUALIZADO",
    "EM_PROCESSO",
    "APROVADO",
    "REJEITADO"
], stereotype="Enum")


# --- Relacionamentos (COM CARDINALIDADES AJUSTADAS) ---

# Relação de Composição (Losango Preenchido)
dot.edge('Inscricao', 'Candidato', headlabel='1', taillabel='0..*', arrowhead='none', arrowtail='diamond', dir='back')
dot.edge('Inscricao', 'Vaga', headlabel='1', taillabel='0..*', arrowhead='none', arrowtail='diamond', dir='back')

# Relação de Agregação (Losango Vazio)
dot.edge('Vaga', 'Empresa', headlabel='1', taillabel='0..*', arrowhead='none', arrowtail='odiamond', dir='back')

# Relação de Associação (Linha Simples)
dot.edge('Candidato', 'Usuario', headlabel='1', taillabel='1')
dot.edge('Empresa', 'Usuario', headlabel='1', taillabel='1')

# Relação de Dependência (Tracejada)
dot.edge('Usuario', 'Role', style='dashed', arrowhead='open')
dot.edge('Vaga', 'StatusVaga', style='dashed', arrowhead='open')
dot.edge('Vaga', 'TipoContratacao', style='dashed', arrowhead='open')
dot.edge('Inscricao', 'StatusInscricao', style='dashed', arrowhead='open')


# --- Renderização e Exibição ---
file_path = 'diagrama_classes_empregapi_corrigido'
dot.render(file_path, view=False, cleanup=True)

# Exibe a imagem no Colab
from IPython.display import Image
Image(f'{file_path
}.png')